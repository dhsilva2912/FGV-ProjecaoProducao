{
 "cells": [
  {
   "cell_type": "code",
   "execution_count": 1,
   "metadata": {},
   "outputs": [],
   "source": [
    "import pandas as pd\n",
    "import numpy as np\n",
    "import datetime as dt\n",
    "\n",
    "from statsmodels.tsa.stattools import adfuller\n",
    "from sklearn import metrics\n",
    "\n",
    "from math import sqrt\n",
    "from math import pi\n",
    "\n",
    "from pyramid.arima import auto_arima"
   ]
  },
  {
   "cell_type": "code",
   "execution_count": 2,
   "metadata": {},
   "outputs": [
    {
     "name": "stdout",
     "output_type": "stream",
     "text": [
      "<class 'pandas.core.frame.DataFrame'>\n",
      "Int64Index: 3693833 entries, 0 to 3693832\n",
      "Data columns (total 3 columns):\n",
      "EVS_END         datetime64[ns]\n",
      "MCH_NUMBER      object\n",
      "EVS_REAL_QTY    float64\n",
      "dtypes: datetime64[ns](1), float64(1), object(1)\n",
      "memory usage: 112.7+ MB\n"
     ]
    }
   ],
   "source": [
    "df_base = pd.read_parquet('prod_hist.parquet')\n",
    "df_base = df_base[['EVS_END', 'MCH_NUMBER', 'EVS_REAL_QTY']]\n",
    "\n",
    "df_base.info()"
   ]
  },
  {
   "cell_type": "code",
   "execution_count": 3,
   "metadata": {},
   "outputs": [],
   "source": [
    "def forecast_2018(interval, df_base):\n",
    "    turnos = 3\n",
    "    tempo_turno = (8 * 60)\n",
    "\n",
    "    turno_atual = pd.to_datetime(interval)\n",
    "    turno_passado = turno_atual - dt.timedelta(minutes=(tempo_turno * turnos))\n",
    "    turno_futuro = turno_atual + dt.timedelta(minutes=tempo_turno)\n",
    "\n",
    "    print('Processando Turno : {}'.format(turno_atual))\n",
    "\n",
    "    df_series = df_base.loc[(df_base['EVS_END'] >= turno_passado) & (df_base['EVS_END'] < turno_atual)]\n",
    "\n",
    "    df_series = df_series.groupby(by=['MCH_NUMBER', pd.Grouper(key='EVS_END', freq='5Min')]).sum()\n",
    "    df_series = df_series.unstack('MCH_NUMBER')\n",
    "    df_series.fillna(value=0, inplace=True)\n",
    "    df_series.columns = df_series.columns.droplevel()\n",
    "\n",
    "    adf = dict(zip(df_series.columns.tolist(),\n",
    "                   [True if (adfuller(df_series[col])[1] < 0.05) else False for col in df_series.columns.tolist()]))\n",
    "\n",
    "    model ={}\n",
    "    for i in range(df_series.columns.size):\n",
    "        maq = df_series.columns[i]\n",
    "        \n",
    "        arima_model = auto_arima(df_series[maq], seasonal=True, stationary=adf[maq],trace=False,\n",
    "                                 error_action='ignore',suppress_warnings=True, stepwise=True)\n",
    "        \n",
    "        model[maq] = [arima_model]\n",
    "\n",
    "    df_model =  pd.DataFrame.from_dict(model, orient='index', columns=['model'])\n",
    "    period = pd.date_range(start= turno_atual, end= turno_futuro, freq='5Min')\n",
    "\n",
    "    pred = {}\n",
    "    for i in range(df_model.shape[0]):\n",
    "        pred[df_model.index[i]] = df_model['model'][i].predict(n_periods=period.size)\n",
    "\n",
    "    df_forecast =  pd.DataFrame.from_dict(pred)\n",
    "    df_forecast.index = period\n",
    "\n",
    "    final = {}\n",
    "    \n",
    "    df_real = df_base.loc[(df_base['EVS_END'] >= turno_atual) & (df_base['EVS_END'] < turno_futuro)]\n",
    "\n",
    "    df_real = df_real.groupby(by=['MCH_NUMBER', pd.Grouper(key='EVS_END', freq='5Min')]).sum()\n",
    "    df_real = df_real.unstack('MCH_NUMBER')\n",
    "    df_real.fillna(value=0, inplace=True)\n",
    "    df_real.columns = df_real.columns.droplevel()\n",
    "    \n",
    "    for i in range(df_forecast.columns.size):\n",
    "        final[df_forecast.columns[i]] = [turno_atual,\n",
    "                                         df_forecast[df_forecast.columns[i]].tolist(),\n",
    "                                         df_real[df_forecast.columns[i]].tolist()]\n",
    "\n",
    "    df_final = pd.DataFrame.from_dict(final, orient='index', columns=['DATA', 'FORECAST', 'REAL'])\n",
    "       \n",
    "    return df_final"
   ]
  },
  {
   "cell_type": "code",
   "execution_count": 4,
   "metadata": {},
   "outputs": [],
   "source": [
    "\n",
    "interval = pd.date_range(start= pd.to_datetime(dt.datetime(2018,3,5,7)),\n",
    "                         end=   pd.to_datetime(dt.datetime(2018,3,5,23)),\n",
    "                         freq='480Min', dtype='datetime64[ns]').astype(str).tolist()"
   ]
  },
  {
   "cell_type": "code",
   "execution_count": 6,
   "metadata": {},
   "outputs": [
    {
     "name": "stdout",
     "output_type": "stream",
     "text": [
      "Processando Turno : 2018-03-05 07:00:00\n",
      "Processando Turno : 2018-03-05 15:00:00\n",
      "Processando Turno : 2018-03-05 23:00:00\n"
     ]
    }
   ],
   "source": [
    "\n",
    "result =[]\n",
    "for i in range(len(interval)):\n",
    "    result.append(forecast_2018(interval[i],df_base))"
   ]
  },
  {
   "cell_type": "code",
   "execution_count": 8,
   "metadata": {},
   "outputs": [],
   "source": [
    "df_final = pd.concat(result)"
   ]
  },
  {
   "cell_type": "code",
   "execution_count": 24,
   "metadata": {},
   "outputs": [
    {
     "data": {
      "text/html": [
       "<div>\n",
       "<style scoped>\n",
       "    .dataframe tbody tr th:only-of-type {\n",
       "        vertical-align: middle;\n",
       "    }\n",
       "\n",
       "    .dataframe tbody tr th {\n",
       "        vertical-align: top;\n",
       "    }\n",
       "\n",
       "    .dataframe thead th {\n",
       "        text-align: right;\n",
       "    }\n",
       "</style>\n",
       "<table border=\"1\" class=\"dataframe\">\n",
       "  <thead>\n",
       "    <tr style=\"text-align: right;\">\n",
       "      <th></th>\n",
       "      <th>DATA</th>\n",
       "      <th>FORECAST</th>\n",
       "      <th>REAL</th>\n",
       "    </tr>\n",
       "  </thead>\n",
       "  <tbody>\n",
       "    <tr>\n",
       "      <th>AM1</th>\n",
       "      <td>2018-03-05 07:00:00</td>\n",
       "      <td>[4.679174438442254, 4.477163713365294, 4.33862...</td>\n",
       "      <td>[0.0, 4.0, 5.0, 3.0, 5.0, 5.0, 6.0, 6.0, 4.0, ...</td>\n",
       "    </tr>\n",
       "    <tr>\n",
       "      <th>AM2</th>\n",
       "      <td>2018-03-05 07:00:00</td>\n",
       "      <td>[2.113275712990679, 2.621834341920507, 2.97276...</td>\n",
       "      <td>[6.0, 4.0, 3.0, 3.0, 6.0, 5.0, 6.0, 6.0, 5.0, ...</td>\n",
       "    </tr>\n",
       "    <tr>\n",
       "      <th>AM3</th>\n",
       "      <td>2018-03-05 07:00:00</td>\n",
       "      <td>[3.6517827569560297, 3.7298560685632083, 3.800...</td>\n",
       "      <td>[2.0, 7.0, 5.0, 3.0, 6.0, 1.0, 6.0, 6.0, 1.0, ...</td>\n",
       "    </tr>\n",
       "    <tr>\n",
       "      <th>AM4</th>\n",
       "      <td>2018-03-05 07:00:00</td>\n",
       "      <td>[3.488323883302431, 3.867727633359576, 3.97195...</td>\n",
       "      <td>[0.0, 5.0, 3.0, 5.0, 6.0, 5.0, 6.0, 5.0, 4.0, ...</td>\n",
       "    </tr>\n",
       "    <tr>\n",
       "      <th>TL1</th>\n",
       "      <td>2018-03-05 07:00:00</td>\n",
       "      <td>[1.4018674651589706, 1.121952095264266, 0.9909...</td>\n",
       "      <td>[1.0, 0.0, 0.0, 2.0, 0.0, 0.0, 0.0, 0.0, 0.0, ...</td>\n",
       "    </tr>\n",
       "  </tbody>\n",
       "</table>\n",
       "</div>"
      ],
      "text/plain": [
       "                   DATA                                           FORECAST  \\\n",
       "AM1 2018-03-05 07:00:00  [4.679174438442254, 4.477163713365294, 4.33862...   \n",
       "AM2 2018-03-05 07:00:00  [2.113275712990679, 2.621834341920507, 2.97276...   \n",
       "AM3 2018-03-05 07:00:00  [3.6517827569560297, 3.7298560685632083, 3.800...   \n",
       "AM4 2018-03-05 07:00:00  [3.488323883302431, 3.867727633359576, 3.97195...   \n",
       "TL1 2018-03-05 07:00:00  [1.4018674651589706, 1.121952095264266, 0.9909...   \n",
       "\n",
       "                                                  REAL  \n",
       "AM1  [0.0, 4.0, 5.0, 3.0, 5.0, 5.0, 6.0, 6.0, 4.0, ...  \n",
       "AM2  [6.0, 4.0, 3.0, 3.0, 6.0, 5.0, 6.0, 6.0, 5.0, ...  \n",
       "AM3  [2.0, 7.0, 5.0, 3.0, 6.0, 1.0, 6.0, 6.0, 1.0, ...  \n",
       "AM4  [0.0, 5.0, 3.0, 5.0, 6.0, 5.0, 6.0, 5.0, 4.0, ...  \n",
       "TL1  [1.0, 0.0, 0.0, 2.0, 0.0, 0.0, 0.0, 0.0, 0.0, ...  "
      ]
     },
     "execution_count": 24,
     "metadata": {},
     "output_type": "execute_result"
    }
   ],
   "source": [
    "df_final.head()"
   ]
  },
  {
   "cell_type": "code",
   "execution_count": 65,
   "metadata": {},
   "outputs": [
    {
     "data": {
      "image/png": "[encoded data removed]",
      "text/plain": [
       "<Figure size 432x288 with 1 Axes>"
      ]
     },
     "metadata": {},
     "output_type": "display_data"
    }
   ],
   "source": [
    "import matplotlib.pyplot as plt\n",
    "\n",
    "%matplotlib inline\n",
    "\n",
    "y0 = df_final.loc[(df_final.index == 'AM1') & (df_final['DATA'] == '2018-03-05 07:00:00')]['FORECAST'].values\n",
    "y1 = df_final.loc[(df_final.index == 'AM1') & (df_final['DATA'] == '2018-03-05 07:00:00')]['REAL'].values\n",
    "\n",
    "_= plt.plot(list(range(len(y0[0]))), y0[0], label='FORECAST')\n",
    "_= plt.plot(list(range(len(y1[0]))), y1[0], label='REAL')\n",
    "\n",
    "_= plt.legend()"
   ]
  },
  {
   "cell_type": "code",
   "execution_count": 63,
   "metadata": {},
   "outputs": [
    {
     "name": "stdout",
     "output_type": "stream",
     "text": [
      "FORECAST: 354.83693942185863\n",
      "REAL: 360.0\n"
     ]
    }
   ],
   "source": [
    "print('FORECAST: {}'.format(sum(y0[0])))\n",
    "print('REAL: {}'.format(sum(y1[0])))"
   ]
  },
  {
   "cell_type": "code",
   "execution_count": null,
   "metadata": {},
   "outputs": [],
   "source": []
  }
 ],
 "metadata": {
  "kernelspec": {
   "display_name": "Python 3",
   "language": "python",
   "name": "python3"
  },
  "language_info": {
   "codemirror_mode": {
    "name": "ipython",
    "version": 3
   },
   "file_extension": ".py",
   "mimetype": "text/x-python",
   "name": "python",
   "nbconvert_exporter": "python",
   "pygments_lexer": "ipython3",
   "version": "3.6.5"
  },
  "toc": {
   "base_numbering": 1,
   "nav_menu": {},
   "number_sections": true,
   "sideBar": true,
   "skip_h1_title": false,
   "title_cell": "Table of Contents",
   "title_sidebar": "Contents",
   "toc_cell": false,
   "toc_position": {},
   "toc_section_display": true,
   "toc_window_display": false
  },
  "varInspector": {
   "cols": {
    "lenName": 16,
    "lenType": 16,
    "lenVar": 40
   },
   "kernels_config": {
    "python": {
     "delete_cmd_postfix": "",
     "delete_cmd_prefix": "del ",
     "library": "var_list.py",
     "varRefreshCmd": "print(var_dic_list())"
    },
    "r": {
     "delete_cmd_postfix": ") ",
     "delete_cmd_prefix": "rm(",
     "library": "var_list.r",
     "varRefreshCmd": "cat(var_dic_list()) "
    }
   },
   "position": {
    "height": "257px",
    "left": "1550px",
    "right": "20px",
    "top": "119px",
    "width": "350px"
   },
   "types_to_exclude": [
    "module",
    "function",
    "builtin_function_or_method",
    "instance",
    "_Feature"
   ],
   "window_display": true
  }
 },
 "nbformat": 4,
 "nbformat_minor": 2
}
